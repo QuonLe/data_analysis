{
 "cells": [
  {
   "cell_type": "markdown",
   "id": "296903be",
   "metadata": {},
   "source": [
    "## create"
   ]
  },
  {
   "cell_type": "code",
   "execution_count": 49,
   "id": "fc85c2cb",
   "metadata": {},
   "outputs": [
    {
     "data": {
      "text/plain": [
       "0    5\n",
       "1    7\n",
       "2    5\n",
       "3    1\n",
       "4    6\n",
       "Name: num_dropped, dtype: int64"
      ]
     },
     "execution_count": 49,
     "metadata": {},
     "output_type": "execute_result"
    }
   ],
   "source": [
    "import pandas as pd\n",
    "\n",
    "data = pd.Series([5, 7, 5, 1, 6], \n",
    "                 name='num_dropped')\n",
    "data"
   ]
  },
  {
   "cell_type": "code",
   "execution_count": 24,
   "id": "ff1d5b06",
   "metadata": {},
   "outputs": [
    {
     "data": {
      "text/plain": [
       "'num_dropped'"
      ]
     },
     "execution_count": 24,
     "metadata": {},
     "output_type": "execute_result"
    }
   ],
   "source": [
    "data.name"
   ]
  },
  {
   "cell_type": "code",
   "execution_count": 25,
   "id": "90759820",
   "metadata": {},
   "outputs": [
    {
     "data": {
      "text/plain": [
       "RangeIndex(start=0, stop=5, step=1)"
      ]
     },
     "execution_count": 25,
     "metadata": {},
     "output_type": "execute_result"
    }
   ],
   "source": [
    "data.index"
   ]
  },
  {
   "cell_type": "code",
   "execution_count": 26,
   "id": "727bb3f1",
   "metadata": {},
   "outputs": [
    {
     "data": {
      "text/plain": [
       "array([5, 7, 5, 1, 6], dtype=int64)"
      ]
     },
     "execution_count": 26,
     "metadata": {},
     "output_type": "execute_result"
    }
   ],
   "source": [
    "data.values"
   ]
  },
  {
   "cell_type": "code",
   "execution_count": null,
   "id": "6834fcf5",
   "metadata": {},
   "outputs": [],
   "source": []
  },
  {
   "cell_type": "code",
   "execution_count": 27,
   "id": "13fa3602",
   "metadata": {},
   "outputs": [
    {
     "name": "stdout",
     "output_type": "stream",
     "text": [
      "5\n",
      "7\n",
      "5\n",
      "1\n",
      "6\n"
     ]
    }
   ],
   "source": [
    "# get values\n",
    "\n",
    "for v in data:\n",
    "    print(v)"
   ]
  },
  {
   "cell_type": "code",
   "execution_count": 28,
   "id": "7007603e",
   "metadata": {},
   "outputs": [
    {
     "name": "stdout",
     "output_type": "stream",
     "text": [
      "5\n",
      "7\n",
      "5\n",
      "1\n",
      "6\n"
     ]
    }
   ],
   "source": [
    "print(data[0])\n",
    "print(data[1])\n",
    "print(data[2])\n",
    "print(data[3])\n",
    "print(data[4])"
   ]
  },
  {
   "cell_type": "code",
   "execution_count": 30,
   "id": "b0f3ab78",
   "metadata": {},
   "outputs": [
    {
     "name": "stdout",
     "output_type": "stream",
     "text": [
      "5\n",
      "7\n",
      "5\n",
      "1\n",
      "6\n"
     ]
    }
   ],
   "source": [
    "print(data.loc[0])\n",
    "print(data.loc[1])\n",
    "print(data.loc[2])\n",
    "print(data.loc[3])\n",
    "print(data.loc[4])"
   ]
  },
  {
   "cell_type": "code",
   "execution_count": 33,
   "id": "4bd441ef",
   "metadata": {},
   "outputs": [
    {
     "data": {
      "text/plain": [
       "2    5\n",
       "3    1\n",
       "Name: num_dropped, dtype: int64"
      ]
     },
     "execution_count": 33,
     "metadata": {},
     "output_type": "execute_result"
    }
   ],
   "source": [
    "result = data.loc[2:3]"
   ]
  },
  {
   "cell_type": "code",
   "execution_count": 36,
   "id": "19306533",
   "metadata": {},
   "outputs": [
    {
     "data": {
      "text/plain": [
       "1    7\n",
       "4    6\n",
       "Name: num_dropped, dtype: int64"
      ]
     },
     "execution_count": 36,
     "metadata": {},
     "output_type": "execute_result"
    }
   ],
   "source": [
    "result = data[data>5]\n",
    "result"
   ]
  },
  {
   "cell_type": "code",
   "execution_count": 37,
   "id": "5d9438f5",
   "metadata": {},
   "outputs": [
    {
     "data": {
      "text/plain": [
       "0    5\n",
       "2    5\n",
       "4    6\n",
       "Name: num_dropped, dtype: int64"
      ]
     },
     "execution_count": 37,
     "metadata": {},
     "output_type": "execute_result"
    }
   ],
   "source": [
    "result = data[data.between(3, 6)]\n",
    "result"
   ]
  },
  {
   "cell_type": "code",
   "execution_count": 39,
   "id": "07bbc3a9",
   "metadata": {},
   "outputs": [
    {
     "data": {
      "text/plain": [
       "2    5\n",
       "Name: num_dropped, dtype: int64"
      ]
     },
     "execution_count": 39,
     "metadata": {},
     "output_type": "execute_result"
    }
   ],
   "source": [
    "data[2:3]"
   ]
  },
  {
   "cell_type": "code",
   "execution_count": null,
   "id": "1c909714",
   "metadata": {},
   "outputs": [],
   "source": []
  },
  {
   "cell_type": "markdown",
   "id": "5bac1639",
   "metadata": {},
   "source": [
    "## Drop rows"
   ]
  },
  {
   "cell_type": "code",
   "execution_count": 40,
   "id": "698ecce6",
   "metadata": {},
   "outputs": [
    {
     "data": {
      "text/plain": [
       "0    5\n",
       "1    7\n",
       "3    1\n",
       "4    6\n",
       "Name: num_dropped, dtype: int64"
      ]
     },
     "execution_count": 40,
     "metadata": {},
     "output_type": "execute_result"
    }
   ],
   "source": [
    "data.drop(2)"
   ]
  },
  {
   "cell_type": "code",
   "execution_count": 43,
   "id": "9acd94ff",
   "metadata": {},
   "outputs": [
    {
     "data": {
      "text/plain": [
       "0    5\n",
       "1    7\n",
       "3    1\n",
       "Name: num_dropped, dtype: int64"
      ]
     },
     "execution_count": 43,
     "metadata": {},
     "output_type": "execute_result"
    }
   ],
   "source": [
    "data.drop([2, 4])"
   ]
  },
  {
   "cell_type": "code",
   "execution_count": null,
   "id": "55c9ed02",
   "metadata": {},
   "outputs": [],
   "source": []
  },
  {
   "cell_type": "markdown",
   "id": "0a684dd7",
   "metadata": {},
   "source": [
    "## Insert rows"
   ]
  },
  {
   "cell_type": "code",
   "execution_count": 44,
   "id": "8d27e63a",
   "metadata": {},
   "outputs": [
    {
     "data": {
      "text/plain": [
       "0    5\n",
       "1    7\n",
       "2    5\n",
       "3    1\n",
       "4    6\n",
       "Name: num_dropped, dtype: int64"
      ]
     },
     "execution_count": 44,
     "metadata": {},
     "output_type": "execute_result"
    }
   ],
   "source": [
    "data"
   ]
  },
  {
   "cell_type": "code",
   "execution_count": 45,
   "id": "bb5ef2a5",
   "metadata": {},
   "outputs": [
    {
     "data": {
      "text/plain": [
       "0.0    5\n",
       "1.0    7\n",
       "2.0    5\n",
       "3.0    1\n",
       "4.0    6\n",
       "2.5    9\n",
       "Name: num_dropped, dtype: int64"
      ]
     },
     "execution_count": 45,
     "metadata": {},
     "output_type": "execute_result"
    }
   ],
   "source": [
    "data[2.5] = 9\n",
    "data"
   ]
  },
  {
   "cell_type": "code",
   "execution_count": 46,
   "id": "fc155c35",
   "metadata": {},
   "outputs": [
    {
     "data": {
      "text/plain": [
       "0.0    5\n",
       "1.0    7\n",
       "2.0    5\n",
       "2.5    9\n",
       "3.0    1\n",
       "4.0    6\n",
       "Name: num_dropped, dtype: int64"
      ]
     },
     "execution_count": 46,
     "metadata": {},
     "output_type": "execute_result"
    }
   ],
   "source": [
    "data.sort_index(inplace=True)\n",
    "data"
   ]
  },
  {
   "cell_type": "code",
   "execution_count": 47,
   "id": "f61db88c",
   "metadata": {},
   "outputs": [
    {
     "data": {
      "text/plain": [
       "0    5\n",
       "1    7\n",
       "2    5\n",
       "3    9\n",
       "4    1\n",
       "5    6\n",
       "Name: num_dropped, dtype: int64"
      ]
     },
     "execution_count": 47,
     "metadata": {},
     "output_type": "execute_result"
    }
   ],
   "source": [
    "data.reset_index(drop=True)"
   ]
  },
  {
   "cell_type": "code",
   "execution_count": null,
   "id": "af15be9b",
   "metadata": {},
   "outputs": [],
   "source": []
  },
  {
   "cell_type": "code",
   "execution_count": null,
   "id": "13f98be5",
   "metadata": {},
   "outputs": [],
   "source": []
  },
  {
   "cell_type": "code",
   "execution_count": null,
   "id": "7a08028f",
   "metadata": {},
   "outputs": [],
   "source": [
    "# duplicated"
   ]
  },
  {
   "cell_type": "code",
   "execution_count": 3,
   "id": "1c471103",
   "metadata": {},
   "outputs": [
    {
     "data": {
      "text/plain": [
       "0    False\n",
       "1    False\n",
       "2     True\n",
       "3    False\n",
       "4    False\n",
       "dtype: bool"
      ]
     },
     "execution_count": 3,
     "metadata": {},
     "output_type": "execute_result"
    }
   ],
   "source": [
    "data.duplicated()"
   ]
  },
  {
   "cell_type": "code",
   "execution_count": 4,
   "id": "bdc29526",
   "metadata": {},
   "outputs": [
    {
     "data": {
      "text/plain": [
       "0    5\n",
       "1    7\n",
       "3    1\n",
       "4    6\n",
       "dtype: int64"
      ]
     },
     "execution_count": 4,
     "metadata": {},
     "output_type": "execute_result"
    }
   ],
   "source": [
    "data.drop_duplicates()"
   ]
  },
  {
   "cell_type": "code",
   "execution_count": 5,
   "id": "408c554b",
   "metadata": {},
   "outputs": [
    {
     "data": {
      "text/plain": [
       "5    2\n",
       "7    1\n",
       "1    1\n",
       "6    1\n",
       "dtype: int64"
      ]
     },
     "execution_count": 5,
     "metadata": {},
     "output_type": "execute_result"
    }
   ],
   "source": [
    "data.value_counts()"
   ]
  },
  {
   "cell_type": "code",
   "execution_count": null,
   "id": "eec6bdd6",
   "metadata": {},
   "outputs": [],
   "source": []
  },
  {
   "cell_type": "markdown",
   "id": "73960681",
   "metadata": {},
   "source": [
    "## Common functions"
   ]
  },
  {
   "cell_type": "code",
   "execution_count": 58,
   "id": "81ce5e04",
   "metadata": {},
   "outputs": [
    {
     "data": {
      "text/plain": [
       "0    5\n",
       "1    7\n",
       "2    5\n",
       "3    1\n",
       "4    6\n",
       "Name: num_dropped, dtype: int64"
      ]
     },
     "execution_count": 58,
     "metadata": {},
     "output_type": "execute_result"
    }
   ],
   "source": [
    "data"
   ]
  },
  {
   "cell_type": "code",
   "execution_count": 51,
   "id": "797b5d8a",
   "metadata": {},
   "outputs": [
    {
     "data": {
      "text/plain": [
       "1"
      ]
     },
     "execution_count": 51,
     "metadata": {},
     "output_type": "execute_result"
    }
   ],
   "source": [
    "data.min()"
   ]
  },
  {
   "cell_type": "code",
   "execution_count": 52,
   "id": "e8e5367e",
   "metadata": {},
   "outputs": [
    {
     "data": {
      "text/plain": [
       "7"
      ]
     },
     "execution_count": 52,
     "metadata": {},
     "output_type": "execute_result"
    }
   ],
   "source": [
    "data.max()"
   ]
  },
  {
   "cell_type": "code",
   "execution_count": 53,
   "id": "49cc1af2",
   "metadata": {},
   "outputs": [
    {
     "data": {
      "text/plain": [
       "24"
      ]
     },
     "execution_count": 53,
     "metadata": {},
     "output_type": "execute_result"
    }
   ],
   "source": [
    "data.sum()"
   ]
  },
  {
   "cell_type": "code",
   "execution_count": 54,
   "id": "3d985832",
   "metadata": {},
   "outputs": [
    {
     "data": {
      "text/plain": [
       "4.8"
      ]
     },
     "execution_count": 54,
     "metadata": {},
     "output_type": "execute_result"
    }
   ],
   "source": [
    "data.mean()"
   ]
  },
  {
   "cell_type": "code",
   "execution_count": 55,
   "id": "247902d6",
   "metadata": {},
   "outputs": [
    {
     "data": {
      "text/plain": [
       "2.280350850198276"
      ]
     },
     "execution_count": 55,
     "metadata": {},
     "output_type": "execute_result"
    }
   ],
   "source": [
    "data.std()"
   ]
  },
  {
   "cell_type": "code",
   "execution_count": 56,
   "id": "94426dd5",
   "metadata": {},
   "outputs": [
    {
     "data": {
      "text/plain": [
       "5.2"
      ]
     },
     "execution_count": 56,
     "metadata": {},
     "output_type": "execute_result"
    }
   ],
   "source": [
    "data.var()"
   ]
  },
  {
   "cell_type": "code",
   "execution_count": null,
   "id": "c50d0943",
   "metadata": {},
   "outputs": [],
   "source": []
  },
  {
   "cell_type": "code",
   "execution_count": 59,
   "id": "5378582d",
   "metadata": {},
   "outputs": [
    {
     "data": {
      "text/plain": [
       "1"
      ]
     },
     "execution_count": 59,
     "metadata": {},
     "output_type": "execute_result"
    }
   ],
   "source": [
    "data.idxmax()"
   ]
  },
  {
   "cell_type": "code",
   "execution_count": 60,
   "id": "39369e32",
   "metadata": {},
   "outputs": [
    {
     "data": {
      "text/plain": [
       "1"
      ]
     },
     "execution_count": 60,
     "metadata": {},
     "output_type": "execute_result"
    }
   ],
   "source": [
    "data.argmax()"
   ]
  },
  {
   "cell_type": "code",
   "execution_count": null,
   "id": "54d51747",
   "metadata": {},
   "outputs": [],
   "source": []
  },
  {
   "cell_type": "code",
   "execution_count": null,
   "id": "b187c026",
   "metadata": {},
   "outputs": [],
   "source": []
  },
  {
   "cell_type": "code",
   "execution_count": null,
   "id": "fdd96cb4",
   "metadata": {},
   "outputs": [],
   "source": []
  },
  {
   "cell_type": "code",
   "execution_count": null,
   "id": "712efd13",
   "metadata": {},
   "outputs": [],
   "source": []
  },
  {
   "cell_type": "code",
   "execution_count": null,
   "id": "ec5f2a3c",
   "metadata": {},
   "outputs": [],
   "source": []
  },
  {
   "cell_type": "code",
   "execution_count": null,
   "id": "fe57b95a",
   "metadata": {},
   "outputs": [],
   "source": []
  },
  {
   "cell_type": "code",
   "execution_count": null,
   "id": "96e0e61a",
   "metadata": {},
   "outputs": [],
   "source": []
  },
  {
   "cell_type": "code",
   "execution_count": null,
   "id": "689f52ef",
   "metadata": {},
   "outputs": [],
   "source": []
  },
  {
   "cell_type": "code",
   "execution_count": null,
   "id": "cdf9cf3f",
   "metadata": {},
   "outputs": [],
   "source": []
  },
  {
   "cell_type": "markdown",
   "id": "e2610720",
   "metadata": {},
   "source": [
    "## Strings "
   ]
  },
  {
   "cell_type": "code",
   "execution_count": 6,
   "id": "c35324a9",
   "metadata": {},
   "outputs": [
    {
     "data": {
      "text/plain": [
       "0       C++\n",
       "1    Golang\n",
       "2      Java\n",
       "3    Python\n",
       "4     Swift\n",
       "dtype: object"
      ]
     },
     "execution_count": 6,
     "metadata": {},
     "output_type": "execute_result"
    }
   ],
   "source": [
    "import pandas as pd\n",
    "import numpy as np\n",
    "\n",
    "data = pd.Series(['C++', 'Golang', 'Java', 'Python', 'Swift'])\n",
    "data"
   ]
  },
  {
   "cell_type": "code",
   "execution_count": 8,
   "id": "12ec8e4d",
   "metadata": {},
   "outputs": [
    {
     "data": {
      "text/plain": [
       "0    0\n",
       "1    0\n",
       "2    1\n",
       "3    0\n",
       "4    0\n",
       "dtype: int64"
      ]
     },
     "execution_count": 8,
     "metadata": {},
     "output_type": "execute_result"
    }
   ],
   "source": [
    "data.str.count('Java')"
   ]
  },
  {
   "cell_type": "code",
   "execution_count": 9,
   "id": "80682526",
   "metadata": {},
   "outputs": [
    {
     "data": {
      "text/plain": [
       "0       C++\n",
       "1    GOLANG\n",
       "2      JAVA\n",
       "3    PYTHON\n",
       "4     SWIFT\n",
       "dtype: object"
      ]
     },
     "execution_count": 9,
     "metadata": {},
     "output_type": "execute_result"
    }
   ],
   "source": [
    "data.str.upper()"
   ]
  },
  {
   "cell_type": "code",
   "execution_count": 10,
   "id": "babebee9",
   "metadata": {},
   "outputs": [
    {
     "data": {
      "text/plain": [
       "0       C++\n",
       "1    Golang\n",
       "2        C#\n",
       "3    Python\n",
       "4     Swift\n",
       "dtype: object"
      ]
     },
     "execution_count": 10,
     "metadata": {},
     "output_type": "execute_result"
    }
   ],
   "source": [
    "data.replace('Java', 'C#')"
   ]
  },
  {
   "cell_type": "code",
   "execution_count": null,
   "id": "b7450785",
   "metadata": {},
   "outputs": [],
   "source": []
  },
  {
   "cell_type": "markdown",
   "id": "bb5555b5",
   "metadata": {},
   "source": [
    "## Group by"
   ]
  },
  {
   "cell_type": "code",
   "execution_count": 62,
   "id": "59040bc1",
   "metadata": {},
   "outputs": [
    {
     "data": {
      "text/plain": [
       "C++       4\n",
       "Golang    1\n",
       "Java      0\n",
       "Python    2\n",
       "Swift     2\n",
       "C#        1\n",
       "Name: num_dropped, dtype: int64"
      ]
     },
     "execution_count": 62,
     "metadata": {},
     "output_type": "execute_result"
    }
   ],
   "source": [
    "import pandas as pd\n",
    "import numpy as np\n",
    "\n",
    "data = pd.Series([4, 1, 0, 2, 2, 1], \n",
    "                 index=list(['C++', 'Golang', 'Java', 'Python', 'Swift', 'C#']), \n",
    "                 name='num_dropped')\n",
    "data"
   ]
  },
  {
   "cell_type": "code",
   "execution_count": 66,
   "id": "e7e7206c",
   "metadata": {},
   "outputs": [
    {
     "data": {
      "text/plain": [
       "C++       4\n",
       "Golang    1\n",
       "Java      0\n",
       "Golang    2\n",
       "Java      2\n",
       "C++       1\n",
       "Name: num_dropped, dtype: int64"
      ]
     },
     "execution_count": 66,
     "metadata": {},
     "output_type": "execute_result"
    }
   ],
   "source": [
    "import pandas as pd\n",
    "import numpy as np\n",
    "\n",
    "data = pd.Series([4, 1, 0, 2, 2, 1], \n",
    "                 index=list(['C++', 'Golang', 'Java', 'Golang', 'Java', 'C++']), \n",
    "                 name='num_dropped')\n",
    "data"
   ]
  },
  {
   "cell_type": "code",
   "execution_count": 71,
   "id": "d94e146f",
   "metadata": {},
   "outputs": [
    {
     "data": {
      "text/plain": [
       "C++    4\n",
       "C++    1\n",
       "Name: num_dropped, dtype: int64"
      ]
     },
     "execution_count": 71,
     "metadata": {},
     "output_type": "execute_result"
    }
   ],
   "source": [
    "data['C++']"
   ]
  },
  {
   "cell_type": "code",
   "execution_count": 73,
   "id": "7d8dd0c0",
   "metadata": {},
   "outputs": [
    {
     "data": {
      "text/plain": [
       "Golang    1\n",
       "Golang    2\n",
       "Name: num_dropped, dtype: int64"
      ]
     },
     "execution_count": 73,
     "metadata": {},
     "output_type": "execute_result"
    }
   ],
   "source": [
    "data['Golang']"
   ]
  },
  {
   "cell_type": "code",
   "execution_count": 74,
   "id": "11308d90",
   "metadata": {},
   "outputs": [
    {
     "data": {
      "text/plain": [
       "Java    0\n",
       "Java    2\n",
       "Name: num_dropped, dtype: int64"
      ]
     },
     "execution_count": 74,
     "metadata": {},
     "output_type": "execute_result"
    }
   ],
   "source": [
    "data['Java']"
   ]
  },
  {
   "cell_type": "code",
   "execution_count": 75,
   "id": "9bfa331b",
   "metadata": {},
   "outputs": [
    {
     "name": "stdout",
     "output_type": "stream",
     "text": [
      "5\n",
      "3\n",
      "2\n"
     ]
    }
   ],
   "source": [
    "print(data['C++'].sum())\n",
    "print(data['Golang'].sum())\n",
    "print(data['Java'].sum())"
   ]
  },
  {
   "cell_type": "code",
   "execution_count": null,
   "id": "2bfd2904",
   "metadata": {},
   "outputs": [],
   "source": []
  },
  {
   "cell_type": "code",
   "execution_count": 76,
   "id": "819bbe14",
   "metadata": {},
   "outputs": [
    {
     "data": {
      "text/plain": [
       "C++       5\n",
       "Golang    3\n",
       "Java      2\n",
       "Name: num_dropped, dtype: int64"
      ]
     },
     "execution_count": 76,
     "metadata": {},
     "output_type": "execute_result"
    }
   ],
   "source": [
    "data.groupby(level=0).sum()"
   ]
  },
  {
   "cell_type": "code",
   "execution_count": 80,
   "id": "4f7635fb",
   "metadata": {},
   "outputs": [
    {
     "data": {
      "text/plain": [
       "num_dropped\n",
       "False    6\n",
       "True     4\n",
       "Name: num_dropped, dtype: int64"
      ]
     },
     "execution_count": 80,
     "metadata": {},
     "output_type": "execute_result"
    }
   ],
   "source": [
    "data.groupby(data>3).sum()"
   ]
  },
  {
   "cell_type": "code",
   "execution_count": null,
   "id": "e7f171d3",
   "metadata": {},
   "outputs": [],
   "source": []
  },
  {
   "cell_type": "code",
   "execution_count": null,
   "id": "cc87a0eb",
   "metadata": {},
   "outputs": [],
   "source": []
  },
  {
   "cell_type": "code",
   "execution_count": 84,
   "id": "383491ce",
   "metadata": {},
   "outputs": [
    {
     "data": {
      "text/plain": [
       "Animal  Type   \n",
       "Falcon  Captive    390.0\n",
       "        Wild       350.0\n",
       "Parrot  Captive     30.0\n",
       "        Wild        20.0\n",
       "Name: Max Speed, dtype: float64"
      ]
     },
     "execution_count": 84,
     "metadata": {},
     "output_type": "execute_result"
    }
   ],
   "source": [
    "arrays = [['Falcon', 'Falcon', 'Parrot', 'Parrot'],\n",
    "          ['Captive', 'Wild', 'Captive', 'Wild']]\n",
    "index = pd.MultiIndex.from_arrays(arrays, \n",
    "                                  names=('Animal', 'Type'))\n",
    "ser = pd.Series([390., 350., 30., 20.], \n",
    "                index=index, \n",
    "                name=\"Max Speed\")\n",
    "ser"
   ]
  },
  {
   "cell_type": "code",
   "execution_count": 89,
   "id": "dfab1d70",
   "metadata": {},
   "outputs": [
    {
     "data": {
      "text/plain": [
       "Animal\n",
       "Falcon    740.0\n",
       "Parrot     50.0\n",
       "Name: Max Speed, dtype: float64"
      ]
     },
     "execution_count": 89,
     "metadata": {},
     "output_type": "execute_result"
    }
   ],
   "source": [
    "ser.groupby(level=0).sum()"
   ]
  },
  {
   "cell_type": "code",
   "execution_count": 83,
   "id": "1d2e5341",
   "metadata": {},
   "outputs": [
    {
     "data": {
      "text/plain": [
       "Type\n",
       "Captive    210.0\n",
       "Wild       185.0\n",
       "Name: Max Speed, dtype: float64"
      ]
     },
     "execution_count": 83,
     "metadata": {},
     "output_type": "execute_result"
    }
   ],
   "source": [
    "ser.groupby(level=\"Type\").mean()"
   ]
  },
  {
   "cell_type": "code",
   "execution_count": 90,
   "id": "1d705645",
   "metadata": {},
   "outputs": [
    {
     "data": {
      "text/plain": [
       "Type\n",
       "Captive    420.0\n",
       "Wild       370.0\n",
       "Name: Max Speed, dtype: float64"
      ]
     },
     "execution_count": 90,
     "metadata": {},
     "output_type": "execute_result"
    }
   ],
   "source": [
    "ser.groupby(level=1).sum()"
   ]
  },
  {
   "cell_type": "code",
   "execution_count": 88,
   "id": "0706435f",
   "metadata": {},
   "outputs": [
    {
     "data": {
      "text/plain": [
       "MultiIndex([('Falcon', 'Captive'),\n",
       "            ('Falcon',    'Wild'),\n",
       "            ('Parrot', 'Captive'),\n",
       "            ('Parrot',    'Wild')],\n",
       "           names=['Animal', 'Type'])"
      ]
     },
     "execution_count": 88,
     "metadata": {},
     "output_type": "execute_result"
    }
   ],
   "source": [
    "ser.index"
   ]
  },
  {
   "cell_type": "code",
   "execution_count": null,
   "id": "a68e1fc8",
   "metadata": {},
   "outputs": [],
   "source": []
  }
 ],
 "metadata": {
  "kernelspec": {
   "display_name": "Python 3 (ipykernel)",
   "language": "python",
   "name": "python3"
  },
  "language_info": {
   "codemirror_mode": {
    "name": "ipython",
    "version": 3
   },
   "file_extension": ".py",
   "mimetype": "text/x-python",
   "name": "python",
   "nbconvert_exporter": "python",
   "pygments_lexer": "ipython3",
   "version": "3.9.13"
  }
 },
 "nbformat": 4,
 "nbformat_minor": 5
}
