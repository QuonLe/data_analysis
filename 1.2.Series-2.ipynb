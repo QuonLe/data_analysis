{
 "cells": [
  {
   "cell_type": "code",
   "execution_count": 1,
   "id": "2008cebc",
   "metadata": {},
   "outputs": [
    {
     "data": {
      "text/plain": [
       "C       C++\n",
       "G    Golang\n",
       "J      Java\n",
       "P    Python\n",
       "S     Swift\n",
       "Name: Programming Language, dtype: object"
      ]
     },
     "execution_count": 1,
     "metadata": {},
     "output_type": "execute_result"
    }
   ],
   "source": [
    "import pandas as pd\n",
    "import numpy as np\n",
    "\n",
    "data = pd.Series(['C++', 'Golang', 'Java', 'Python', 'Swift'], \n",
    "                 index=list('CGJPS'), \n",
    "                 name='Programming Language')\n",
    "data"
   ]
  },
  {
   "cell_type": "code",
   "execution_count": null,
   "id": "44a8a0a8",
   "metadata": {},
   "outputs": [],
   "source": []
  },
  {
   "cell_type": "code",
   "execution_count": 8,
   "id": "41758c68",
   "metadata": {},
   "outputs": [
    {
     "data": {
      "text/plain": [
       "Index(['C', 'G', 'J', 'P', 'S'], dtype='object')"
      ]
     },
     "execution_count": 8,
     "metadata": {},
     "output_type": "execute_result"
    }
   ],
   "source": [
    "data.index"
   ]
  },
  {
   "cell_type": "code",
   "execution_count": 9,
   "id": "f8656b06",
   "metadata": {},
   "outputs": [
    {
     "data": {
      "text/plain": [
       "'Programming Language'"
      ]
     },
     "execution_count": 9,
     "metadata": {},
     "output_type": "execute_result"
    }
   ],
   "source": [
    "data.name"
   ]
  },
  {
   "cell_type": "code",
   "execution_count": 10,
   "id": "af22423e",
   "metadata": {},
   "outputs": [
    {
     "data": {
      "text/plain": [
       "array(['C++', 'Golang', 'Java', 'Python', 'Swift'], dtype=object)"
      ]
     },
     "execution_count": 10,
     "metadata": {},
     "output_type": "execute_result"
    }
   ],
   "source": [
    "data.values"
   ]
  },
  {
   "cell_type": "code",
   "execution_count": null,
   "id": "bf7032b0",
   "metadata": {},
   "outputs": [],
   "source": []
  },
  {
   "cell_type": "code",
   "execution_count": 11,
   "id": "97fceee2",
   "metadata": {},
   "outputs": [
    {
     "data": {
      "text/plain": [
       "C       C++\n",
       "G    Golang\n",
       "J      Java\n",
       "P    Python\n",
       "Name: Programming Language, dtype: object"
      ]
     },
     "execution_count": 11,
     "metadata": {},
     "output_type": "execute_result"
    }
   ],
   "source": [
    "data['C':'P']"
   ]
  },
  {
   "cell_type": "code",
   "execution_count": 12,
   "id": "3bcb6b69",
   "metadata": {},
   "outputs": [
    {
     "data": {
      "text/plain": [
       "C       C++\n",
       "P    Python\n",
       "Name: Programming Language, dtype: object"
      ]
     },
     "execution_count": 12,
     "metadata": {},
     "output_type": "execute_result"
    }
   ],
   "source": [
    "data[['C', 'P']]"
   ]
  },
  {
   "cell_type": "code",
   "execution_count": null,
   "id": "0bfdf183",
   "metadata": {},
   "outputs": [],
   "source": []
  },
  {
   "cell_type": "code",
   "execution_count": 14,
   "id": "c368dadb",
   "metadata": {},
   "outputs": [
    {
     "data": {
      "text/plain": [
       "J      Java\n",
       "P    Python\n",
       "Name: Programming Language, dtype: object"
      ]
     },
     "execution_count": 14,
     "metadata": {},
     "output_type": "execute_result"
    }
   ],
   "source": [
    "result = data[2:4]\n",
    "result"
   ]
  },
  {
   "cell_type": "code",
   "execution_count": null,
   "id": "0b38dc10",
   "metadata": {},
   "outputs": [],
   "source": []
  },
  {
   "cell_type": "markdown",
   "id": "15c6349a",
   "metadata": {},
   "source": [
    "## Drop rows"
   ]
  },
  {
   "cell_type": "code",
   "execution_count": 15,
   "id": "e74e9ebe",
   "metadata": {},
   "outputs": [
    {
     "data": {
      "text/plain": [
       "G    Golang\n",
       "J      Java\n",
       "P    Python\n",
       "S     Swift\n",
       "Name: Programming Language, dtype: object"
      ]
     },
     "execution_count": 15,
     "metadata": {},
     "output_type": "execute_result"
    }
   ],
   "source": [
    "# drop\n",
    "data.drop('C')"
   ]
  },
  {
   "cell_type": "code",
   "execution_count": 16,
   "id": "56aa8e5a",
   "metadata": {},
   "outputs": [
    {
     "data": {
      "text/plain": [
       "G    Golang\n",
       "J      Java\n",
       "S     Swift\n",
       "Name: Programming Language, dtype: object"
      ]
     },
     "execution_count": 16,
     "metadata": {},
     "output_type": "execute_result"
    }
   ],
   "source": [
    "data.drop(['C', 'P'])"
   ]
  },
  {
   "cell_type": "code",
   "execution_count": null,
   "id": "d68817d9",
   "metadata": {},
   "outputs": [],
   "source": []
  },
  {
   "cell_type": "markdown",
   "id": "d3e993f9",
   "metadata": {},
   "source": [
    "## Insert rows"
   ]
  },
  {
   "cell_type": "code",
   "execution_count": 17,
   "id": "24da14c4",
   "metadata": {},
   "outputs": [
    {
     "data": {
      "text/plain": [
       "C       C++\n",
       "G    Golang\n",
       "J      Java\n",
       "P    Python\n",
       "S     Swift\n",
       "Name: Programming Language, dtype: object"
      ]
     },
     "execution_count": 17,
     "metadata": {},
     "output_type": "execute_result"
    }
   ],
   "source": [
    "data"
   ]
  },
  {
   "cell_type": "code",
   "execution_count": 18,
   "id": "ac9ff1d2",
   "metadata": {},
   "outputs": [
    {
     "data": {
      "text/plain": [
       "C       C++\n",
       "G    Golang\n",
       "J      Java\n",
       "P    Python\n",
       "S     Swift\n",
       "K    Kotlin\n",
       "Name: Programming Language, dtype: object"
      ]
     },
     "execution_count": 18,
     "metadata": {},
     "output_type": "execute_result"
    }
   ],
   "source": [
    "data['K'] = 'Kotlin'\n",
    "data"
   ]
  },
  {
   "cell_type": "code",
   "execution_count": 19,
   "id": "b001ec95",
   "metadata": {},
   "outputs": [
    {
     "data": {
      "text/plain": [
       "C       C++\n",
       "G    Golang\n",
       "J      Java\n",
       "K    Kotlin\n",
       "P    Python\n",
       "S     Swift\n",
       "Name: Programming Language, dtype: object"
      ]
     },
     "execution_count": 19,
     "metadata": {},
     "output_type": "execute_result"
    }
   ],
   "source": [
    "data.sort_index(inplace=True)\n",
    "data"
   ]
  },
  {
   "cell_type": "code",
   "execution_count": null,
   "id": "688f46e4",
   "metadata": {},
   "outputs": [],
   "source": []
  },
  {
   "cell_type": "markdown",
   "id": "47628107",
   "metadata": {},
   "source": [
    "## string"
   ]
  },
  {
   "cell_type": "code",
   "execution_count": 21,
   "id": "62bcecb0",
   "metadata": {},
   "outputs": [
    {
     "data": {
      "text/plain": [
       "C       C++\n",
       "G    Golang\n",
       "J      Java\n",
       "P    Python\n",
       "S     Swift\n",
       "Name: Programming Language, dtype: object"
      ]
     },
     "execution_count": 21,
     "metadata": {},
     "output_type": "execute_result"
    }
   ],
   "source": [
    "data"
   ]
  },
  {
   "cell_type": "code",
   "execution_count": 23,
   "id": "f943b22b",
   "metadata": {},
   "outputs": [
    {
     "data": {
      "text/plain": [
       "C    0\n",
       "G    0\n",
       "J    1\n",
       "P    0\n",
       "S    0\n",
       "Name: Programming Language, dtype: int64"
      ]
     },
     "execution_count": 23,
     "metadata": {},
     "output_type": "execute_result"
    }
   ],
   "source": [
    "data.str.count('Java')"
   ]
  },
  {
   "cell_type": "code",
   "execution_count": 24,
   "id": "6a1d508b",
   "metadata": {},
   "outputs": [
    {
     "data": {
      "text/plain": [
       "C    0\n",
       "G    1\n",
       "J    2\n",
       "P    0\n",
       "S    0\n",
       "Name: Programming Language, dtype: int64"
      ]
     },
     "execution_count": 24,
     "metadata": {},
     "output_type": "execute_result"
    }
   ],
   "source": [
    "data.str.count('a')"
   ]
  },
  {
   "cell_type": "code",
   "execution_count": null,
   "id": "4434fa06",
   "metadata": {},
   "outputs": [],
   "source": []
  },
  {
   "cell_type": "code",
   "execution_count": 25,
   "id": "4b01986a",
   "metadata": {},
   "outputs": [
    {
     "data": {
      "text/plain": [
       "C       C++\n",
       "G    GOLANG\n",
       "J      JAVA\n",
       "P    PYTHON\n",
       "S     SWIFT\n",
       "Name: Programming Language, dtype: object"
      ]
     },
     "execution_count": 25,
     "metadata": {},
     "output_type": "execute_result"
    }
   ],
   "source": [
    "data.str.upper()"
   ]
  },
  {
   "cell_type": "code",
   "execution_count": 26,
   "id": "9e49ff37",
   "metadata": {},
   "outputs": [
    {
     "data": {
      "text/plain": [
       "C       C++\n",
       "G    Golang\n",
       "J        C#\n",
       "P    Python\n",
       "S     Swift\n",
       "Name: Programming Language, dtype: object"
      ]
     },
     "execution_count": 26,
     "metadata": {},
     "output_type": "execute_result"
    }
   ],
   "source": [
    "data.replace('Java', 'C#')"
   ]
  },
  {
   "cell_type": "code",
   "execution_count": null,
   "id": "e5f3ee89",
   "metadata": {},
   "outputs": [],
   "source": []
  },
  {
   "cell_type": "markdown",
   "id": "24efae85",
   "metadata": {},
   "source": [
    "## Missing values"
   ]
  },
  {
   "cell_type": "code",
   "execution_count": 37,
   "id": "0fa581fa",
   "metadata": {},
   "outputs": [
    {
     "data": {
      "text/plain": [
       "0    1.0\n",
       "1    6.0\n",
       "2    3.0\n",
       "3    8.0\n",
       "4    NaN\n",
       "5    7.0\n",
       "6    NaN\n",
       "7    2.0\n",
       "Name: num_dropped, dtype: float64"
      ]
     },
     "execution_count": 37,
     "metadata": {},
     "output_type": "execute_result"
    }
   ],
   "source": [
    "import pandas as pd\n",
    "import numpy as np\n",
    "\n",
    "data = pd.Series([1, 6, 3, 8, np.nan, 7, np.nan, 2], name='num_dropped')\n",
    "data"
   ]
  },
  {
   "cell_type": "code",
   "execution_count": null,
   "id": "9bbf7bdf",
   "metadata": {},
   "outputs": [],
   "source": []
  },
  {
   "cell_type": "code",
   "execution_count": 29,
   "id": "ec8d7a00",
   "metadata": {},
   "outputs": [
    {
     "data": {
      "text/plain": [
       "0    1.0\n",
       "1    6.0\n",
       "2    3.0\n",
       "3    8.0\n",
       "5    7.0\n",
       "7    2.0\n",
       "Name: num_dropped, dtype: float64"
      ]
     },
     "execution_count": 29,
     "metadata": {},
     "output_type": "execute_result"
    }
   ],
   "source": [
    "data.dropna()"
   ]
  },
  {
   "cell_type": "code",
   "execution_count": 30,
   "id": "12ea1a20",
   "metadata": {},
   "outputs": [
    {
     "data": {
      "text/plain": [
       "0    1.0\n",
       "1    6.0\n",
       "2    3.0\n",
       "3    8.0\n",
       "4    1.0\n",
       "5    7.0\n",
       "6    1.0\n",
       "7    2.0\n",
       "Name: num_dropped, dtype: float64"
      ]
     },
     "execution_count": 30,
     "metadata": {},
     "output_type": "execute_result"
    }
   ],
   "source": [
    "data.fillna(1.0)"
   ]
  },
  {
   "cell_type": "code",
   "execution_count": 31,
   "id": "8ffd10c2",
   "metadata": {},
   "outputs": [
    {
     "data": {
      "text/plain": [
       "0    1.0\n",
       "1    6.0\n",
       "2    3.0\n",
       "3    8.0\n",
       "4    7.5\n",
       "5    7.0\n",
       "6    4.5\n",
       "7    2.0\n",
       "Name: num_dropped, dtype: float64"
      ]
     },
     "execution_count": 31,
     "metadata": {},
     "output_type": "execute_result"
    }
   ],
   "source": [
    "data.interpolate()"
   ]
  },
  {
   "cell_type": "code",
   "execution_count": null,
   "id": "dcd1a3b4",
   "metadata": {},
   "outputs": [],
   "source": []
  },
  {
   "cell_type": "code",
   "execution_count": null,
   "id": "3bbaede1",
   "metadata": {},
   "outputs": [],
   "source": []
  },
  {
   "cell_type": "code",
   "execution_count": 38,
   "id": "66b6bc1f",
   "metadata": {},
   "outputs": [
    {
     "data": {
      "text/plain": [
       "27.0"
      ]
     },
     "execution_count": 38,
     "metadata": {},
     "output_type": "execute_result"
    }
   ],
   "source": [
    "# Most Pandas functions happily ignore the missing values\n",
    "\n",
    "data.sum()"
   ]
  },
  {
   "cell_type": "code",
   "execution_count": 39,
   "id": "d1aba2f4",
   "metadata": {},
   "outputs": [
    {
     "data": {
      "text/plain": [
       "1.0"
      ]
     },
     "execution_count": 39,
     "metadata": {},
     "output_type": "execute_result"
    }
   ],
   "source": [
    "data.min()"
   ]
  },
  {
   "cell_type": "code",
   "execution_count": 40,
   "id": "d3a3e10d",
   "metadata": {},
   "outputs": [
    {
     "data": {
      "text/plain": [
       "8.0"
      ]
     },
     "execution_count": 40,
     "metadata": {},
     "output_type": "execute_result"
    }
   ],
   "source": [
    "data.max()"
   ]
  },
  {
   "cell_type": "code",
   "execution_count": 41,
   "id": "5524d33b",
   "metadata": {},
   "outputs": [
    {
     "data": {
      "text/plain": [
       "4.5"
      ]
     },
     "execution_count": 41,
     "metadata": {},
     "output_type": "execute_result"
    }
   ],
   "source": [
    "data.mean()"
   ]
  },
  {
   "cell_type": "code",
   "execution_count": 42,
   "id": "4a46f032",
   "metadata": {},
   "outputs": [
    {
     "data": {
      "text/plain": [
       "2.8809720581775866"
      ]
     },
     "execution_count": 42,
     "metadata": {},
     "output_type": "execute_result"
    }
   ],
   "source": [
    "data.std()"
   ]
  },
  {
   "cell_type": "code",
   "execution_count": 56,
   "id": "ca11286d",
   "metadata": {},
   "outputs": [
    {
     "data": {
      "text/plain": [
       "3"
      ]
     },
     "execution_count": 56,
     "metadata": {},
     "output_type": "execute_result"
    }
   ],
   "source": [
    "data.idxmax()"
   ]
  },
  {
   "cell_type": "code",
   "execution_count": 57,
   "id": "cfe1c097",
   "metadata": {},
   "outputs": [
    {
     "data": {
      "text/plain": [
       "3"
      ]
     },
     "execution_count": 57,
     "metadata": {},
     "output_type": "execute_result"
    }
   ],
   "source": [
    "data.argmax()"
   ]
  },
  {
   "cell_type": "code",
   "execution_count": null,
   "id": "af2cafec",
   "metadata": {},
   "outputs": [],
   "source": []
  },
  {
   "cell_type": "code",
   "execution_count": null,
   "id": "71568be2",
   "metadata": {},
   "outputs": [],
   "source": []
  },
  {
   "cell_type": "code",
   "execution_count": 43,
   "id": "cd50235a",
   "metadata": {},
   "outputs": [
    {
     "data": {
      "text/plain": [
       "C++       12\n",
       "Golang    23\n",
       "Java      31\n",
       "Python    11\n",
       "Swift      9\n",
       "Name: num_registered, dtype: int64"
      ]
     },
     "execution_count": 43,
     "metadata": {},
     "output_type": "execute_result"
    }
   ],
   "source": [
    "import pandas as pd\n",
    "import numpy as np\n",
    "\n",
    "center1 = pd.Series([12, 23, 31, 11, 9], \n",
    "                    index=list(['C++', 'Golang', 'Java', 'Python', 'Swift']), \n",
    "                    name='num_registered')\n",
    "center1"
   ]
  },
  {
   "cell_type": "code",
   "execution_count": 44,
   "id": "f1ab4087",
   "metadata": {},
   "outputs": [
    {
     "data": {
      "text/plain": [
       "C++       42\n",
       "Golang    18\n",
       "Java      44\n",
       "Python    49\n",
       "Swift     27\n",
       "Name: num_registered, dtype: int64"
      ]
     },
     "execution_count": 44,
     "metadata": {},
     "output_type": "execute_result"
    }
   ],
   "source": [
    "center2 = pd.Series([42, 18, 44, 49, 27], \n",
    "                    index=list(['C++', 'Golang', 'Java', 'Python', 'Swift']), \n",
    "                    name='num_registered')\n",
    "center2"
   ]
  },
  {
   "cell_type": "code",
   "execution_count": 46,
   "id": "f5044d34",
   "metadata": {},
   "outputs": [
    {
     "data": {
      "text/plain": [
       "C++       54\n",
       "Golang    41\n",
       "Java      75\n",
       "Python    60\n",
       "Swift     36\n",
       "Name: num_registered, dtype: int64"
      ]
     },
     "execution_count": 46,
     "metadata": {},
     "output_type": "execute_result"
    }
   ],
   "source": [
    "total = center1 + center2\n",
    "total"
   ]
  },
  {
   "cell_type": "code",
   "execution_count": null,
   "id": "5a0a52c5",
   "metadata": {},
   "outputs": [],
   "source": []
  },
  {
   "cell_type": "code",
   "execution_count": 47,
   "id": "fe5dc54a",
   "metadata": {},
   "outputs": [
    {
     "data": {
      "text/plain": [
       "C++        NaN\n",
       "Golang    65.0\n",
       "Java      75.0\n",
       "Python    60.0\n",
       "Swift     36.0\n",
       "Name: num_registered, dtype: float64"
      ]
     },
     "execution_count": 47,
     "metadata": {},
     "output_type": "execute_result"
    }
   ],
   "source": [
    "center1 = pd.Series([12, 23, 31, 11, 9], \n",
    "                    index=list(['C++', 'Golang', 'Java', 'Python', 'Swift']), \n",
    "                    name='num_registered')\n",
    "center2 = pd.Series([42, 44, 49, 27], \n",
    "                    index=list(['Golang', 'Java', 'Python', 'Swift']), \n",
    "                    name='num_registered')\n",
    "total = center1 + center2\n",
    "total"
   ]
  },
  {
   "cell_type": "code",
   "execution_count": null,
   "id": "2a7cc084",
   "metadata": {},
   "outputs": [],
   "source": []
  },
  {
   "cell_type": "code",
   "execution_count": null,
   "id": "c9afe4d0",
   "metadata": {},
   "outputs": [],
   "source": []
  },
  {
   "cell_type": "code",
   "execution_count": null,
   "id": "2562b7a8",
   "metadata": {},
   "outputs": [],
   "source": []
  },
  {
   "cell_type": "code",
   "execution_count": null,
   "id": "22f41c86",
   "metadata": {},
   "outputs": [],
   "source": []
  },
  {
   "cell_type": "code",
   "execution_count": null,
   "id": "5671b92a",
   "metadata": {},
   "outputs": [],
   "source": []
  },
  {
   "cell_type": "code",
   "execution_count": null,
   "id": "61ddca08",
   "metadata": {},
   "outputs": [],
   "source": []
  },
  {
   "cell_type": "code",
   "execution_count": null,
   "id": "eddb235e",
   "metadata": {},
   "outputs": [],
   "source": []
  },
  {
   "cell_type": "code",
   "execution_count": null,
   "id": "e18823af",
   "metadata": {},
   "outputs": [],
   "source": []
  },
  {
   "cell_type": "markdown",
   "id": "db0fb8f8",
   "metadata": {},
   "source": [
    "## Comparison"
   ]
  },
  {
   "cell_type": "code",
   "execution_count": 33,
   "id": "b5336b64",
   "metadata": {},
   "outputs": [
    {
     "data": {
      "text/plain": [
       "False"
      ]
     },
     "execution_count": 33,
     "metadata": {},
     "output_type": "execute_result"
    }
   ],
   "source": [
    "np.array_equal(data1.values, data2.values, equal_nan=True)"
   ]
  },
  {
   "cell_type": "code",
   "execution_count": 34,
   "id": "9052866e",
   "metadata": {},
   "outputs": [
    {
     "data": {
      "text/plain": [
       "True"
      ]
     },
     "execution_count": 34,
     "metadata": {},
     "output_type": "execute_result"
    }
   ],
   "source": [
    "np.array_equal(data1.values, data1.values, equal_nan=True)"
   ]
  },
  {
   "cell_type": "code",
   "execution_count": null,
   "id": "f56e1c29",
   "metadata": {},
   "outputs": [],
   "source": []
  },
  {
   "cell_type": "markdown",
   "id": "713df797",
   "metadata": {},
   "source": [
    "## update series"
   ]
  },
  {
   "cell_type": "code",
   "execution_count": 35,
   "id": "5168e7b9",
   "metadata": {},
   "outputs": [
    {
     "data": {
      "text/plain": [
       "0       C++\n",
       "1    Golang\n",
       "2      Java\n",
       "3    Python\n",
       "4     Swift\n",
       "Name: language, dtype: object"
      ]
     },
     "execution_count": 35,
     "metadata": {},
     "output_type": "execute_result"
    }
   ],
   "source": [
    "import pandas as pd\n",
    "import numpy as np\n",
    "\n",
    "data = pd.Series(['C++', 'Golang', 'Java', 'Python', 'Swift'], name='language')\n",
    "data"
   ]
  },
  {
   "cell_type": "code",
   "execution_count": 37,
   "id": "a70e3a28",
   "metadata": {},
   "outputs": [
    {
     "data": {
      "text/plain": [
       "0.0       C++\n",
       "1.0    Golang\n",
       "2.0      Java\n",
       "3.0    Python\n",
       "4.0     Swift\n",
       "2.5        C#\n",
       "Name: language, dtype: object"
      ]
     },
     "execution_count": 37,
     "metadata": {},
     "output_type": "execute_result"
    }
   ],
   "source": [
    "data[2.5] = 'C#'\n",
    "data"
   ]
  },
  {
   "cell_type": "code",
   "execution_count": 38,
   "id": "bb7dc903",
   "metadata": {},
   "outputs": [],
   "source": [
    "data.sort_index(inplace=True)"
   ]
  },
  {
   "cell_type": "code",
   "execution_count": 43,
   "id": "fcd19ec9",
   "metadata": {},
   "outputs": [
    {
     "data": {
      "text/plain": [
       "0.0       C++\n",
       "1.0    Golang\n",
       "2.0      Java\n",
       "2.5        C#\n",
       "3.0    Python\n",
       "4.0     Swift\n",
       "Name: language, dtype: object"
      ]
     },
     "execution_count": 43,
     "metadata": {},
     "output_type": "execute_result"
    }
   ],
   "source": [
    "data"
   ]
  },
  {
   "cell_type": "code",
   "execution_count": 46,
   "id": "4b14e84e",
   "metadata": {},
   "outputs": [
    {
     "data": {
      "text/plain": [
       "0       C++\n",
       "1    Golang\n",
       "2      Java\n",
       "3        C#\n",
       "4    Python\n",
       "5     Swift\n",
       "Name: language, dtype: object"
      ]
     },
     "execution_count": 46,
     "metadata": {},
     "output_type": "execute_result"
    }
   ],
   "source": [
    "data.reset_index(drop=True)"
   ]
  },
  {
   "cell_type": "code",
   "execution_count": null,
   "id": "c7dd14ab",
   "metadata": {},
   "outputs": [],
   "source": []
  }
 ],
 "metadata": {
  "kernelspec": {
   "display_name": "Python 3 (ipykernel)",
   "language": "python",
   "name": "python3"
  },
  "language_info": {
   "codemirror_mode": {
    "name": "ipython",
    "version": 3
   },
   "file_extension": ".py",
   "mimetype": "text/x-python",
   "name": "python",
   "nbconvert_exporter": "python",
   "pygments_lexer": "ipython3",
   "version": "3.11.2"
  }
 },
 "nbformat": 4,
 "nbformat_minor": 5
}
